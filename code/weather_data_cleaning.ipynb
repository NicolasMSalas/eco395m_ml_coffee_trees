{
 "cells": [
  {
   "cell_type": "code",
   "execution_count": 21,
   "metadata": {},
   "outputs": [],
   "source": [
    "import pandas as pd\n",
    "import numpy as np"
   ]
  },
  {
   "cell_type": "code",
   "execution_count": 22,
   "metadata": {},
   "outputs": [],
   "source": [
    "names = [\"Brazil\", \"Colombia\", \"Vietnam\", \"Indonesia\", \"Honduras\"]\n",
    "data_dict = {}  \n",
    "\n",
    "for name in names:\n",
    "    input_file = f\"../raw_data/weather_data_{name}.csv\"  \n",
    "    data_dict[name] = pd.read_csv(input_file)  "
   ]
  },
  {
   "cell_type": "code",
   "execution_count": 27,
   "metadata": {},
   "outputs": [],
   "source": [
    "for name in names:\n",
    "    df = data_dict[name]\n",
    "    \n",
    "    cols = [\"daylight_duration\", \"sunshine_duration\"]\n",
    "    df[cols] = df[cols].apply(lambda row: row / 3600 if row.max() > 24 else row, axis=1)\n",
    "\n",
    "    df[\"date\"] = pd.to_datetime(df[\"date\"])\n",
    "    df[\"month\"] = df[\"date\"].dt.month\n",
    "    df[\"year\"] = df[\"date\"].dt.year\n",
    "    \n",
    "    df[\"Date\"] = df.apply(lambda row: f\"{row['month']:02d}/{row['year']}\", axis=1)\n",
    "    \n",
    "    # Drop the 'year' and 'month' columns\n",
    "    df = df.drop(columns=[\"year\", \"month\"])\n",
    "    \n",
    "    numeric_cols = df.select_dtypes(include=np.number).columns\n",
    "    grouped_mean = df.groupby(\"Date\")[numeric_cols].mean().reset_index()\n",
    "\n",
    "    grouped_mean = grouped_mean.loc[:, (grouped_mean != 0).any(axis=0)]\n",
    "\n",
    "    # Specify the date format explicitly\n",
    "    grouped_mean[\"Date\"] = pd.to_datetime(grouped_mean[\"Date\"], format=\"%m/%Y\").dt.strftime(\"%m/%Y\")\n",
    "    grouped_mean = grouped_mean[grouped_mean[\"Date\"].str[-4:] != '2025']\n",
    "    grouped_mean = grouped_mean.sort_values(by='Date')\n",
    "    grouped_mean = grouped_mean.reset_index(drop=True)\n",
    "    \n",
    "    desired_columns = [\"Date\", \"temperature_2m_mean\", \"daylight_duration\", \n",
    "                        \"precipitation_sum\", \"wind_speed_10m_max\", \n",
    "                        \"et0_fao_evapotranspiration\"]\n",
    "    grouped_mean = grouped_mean[desired_columns]\n",
    "    \n",
    "    # Rename columns except for 'Date'\n",
    "    grouped_mean.columns = [f\"{name}_{col}\" if col != \"Date\" else col for col in grouped_mean.columns] \n",
    "\n",
    "    output_file = f\"../clean_data/{name}_weather_cleaned.csv\"\n",
    "    grouped_mean.to_csv(output_file, index=False)\n"
   ]
  }
 ],
 "metadata": {
  "kernelspec": {
   "display_name": "Python 3",
   "language": "python",
   "name": "python3"
  },
  "language_info": {
   "codemirror_mode": {
    "name": "ipython",
    "version": 3
   },
   "file_extension": ".py",
   "mimetype": "text/x-python",
   "name": "python",
   "nbconvert_exporter": "python",
   "pygments_lexer": "ipython3",
   "version": "3.11.0rc1"
  }
 },
 "nbformat": 4,
 "nbformat_minor": 2
}
