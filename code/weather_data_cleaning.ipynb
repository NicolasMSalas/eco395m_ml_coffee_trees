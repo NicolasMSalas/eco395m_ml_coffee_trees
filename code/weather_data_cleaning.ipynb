{
 "cells": [
  {
   "cell_type": "code",
   "execution_count": 6,
   "metadata": {},
   "outputs": [],
   "source": [
    "import pandas as pd\n",
    "import numpy as np"
   ]
  },
  {
   "cell_type": "code",
   "execution_count": 7,
   "metadata": {},
   "outputs": [],
   "source": [
    "names = [\"Brazil\", \"Colombia\", \"Vietnam\", \"Indonesia\", \"Honduras\"]\n",
    "data_dict = {}  \n",
    "\n",
    "for name in names:\n",
    "    input_file = f\"../raw_data/weather_data_{name}.csv\"  \n",
    "    data_dict[name] = pd.read_csv(input_file)  "
   ]
  },
  {
   "cell_type": "code",
   "execution_count": 8,
   "metadata": {},
   "outputs": [
    {
     "name": "stderr",
     "output_type": "stream",
     "text": [
      "C:\\Users\\Admin\\AppData\\Local\\Temp\\ipykernel_21212\\3644647907.py:18: UserWarning: Could not infer format, so each element will be parsed individually, falling back to `dateutil`. To ensure parsing is consistent and as-expected, please specify a format.\n",
      "  grouped_mean[\"year_month\"] = pd.to_datetime(grouped_mean[\"year_month\"])\n",
      "C:\\Users\\Admin\\AppData\\Local\\Temp\\ipykernel_21212\\3644647907.py:18: UserWarning: Could not infer format, so each element will be parsed individually, falling back to `dateutil`. To ensure parsing is consistent and as-expected, please specify a format.\n",
      "  grouped_mean[\"year_month\"] = pd.to_datetime(grouped_mean[\"year_month\"])\n",
      "C:\\Users\\Admin\\AppData\\Local\\Temp\\ipykernel_21212\\3644647907.py:18: UserWarning: Could not infer format, so each element will be parsed individually, falling back to `dateutil`. To ensure parsing is consistent and as-expected, please specify a format.\n",
      "  grouped_mean[\"year_month\"] = pd.to_datetime(grouped_mean[\"year_month\"])\n",
      "C:\\Users\\Admin\\AppData\\Local\\Temp\\ipykernel_21212\\3644647907.py:18: UserWarning: Could not infer format, so each element will be parsed individually, falling back to `dateutil`. To ensure parsing is consistent and as-expected, please specify a format.\n",
      "  grouped_mean[\"year_month\"] = pd.to_datetime(grouped_mean[\"year_month\"])\n",
      "C:\\Users\\Admin\\AppData\\Local\\Temp\\ipykernel_21212\\3644647907.py:18: UserWarning: Could not infer format, so each element will be parsed individually, falling back to `dateutil`. To ensure parsing is consistent and as-expected, please specify a format.\n",
      "  grouped_mean[\"year_month\"] = pd.to_datetime(grouped_mean[\"year_month\"])\n"
     ]
    }
   ],
   "source": [
    "for name in names:\n",
    "    df = data_dict[name]\n",
    "    \n",
    "    cols = [\"daylight_duration\", \"sunshine_duration\"]\n",
    "    df[cols] = df[cols].apply(lambda row: row / 3600 if row.max() > 24 else row, axis=1)\n",
    "\n",
    "    df[\"date\"] = pd.to_datetime(df[\"date\"])\n",
    "    df[\"month\"] = df[\"date\"].dt.month\n",
    "    df[\"year\"] = df[\"date\"].dt.year\n",
    "    \n",
    "    df[\"year_month\"] = df.apply(lambda row: f\"{row['month']:02d}/{row['year']}\", axis=1)\n",
    "    \n",
    "    numeric_cols = df.select_dtypes(include=np.number).columns\n",
    "    grouped_mean = df.groupby(\"year_month\")[numeric_cols].mean().reset_index()\n",
    "\n",
    "    grouped_mean = grouped_mean.loc[:, (grouped_mean != 0).any(axis=0)]\n",
    "\n",
    "    grouped_mean[\"year_month\"] = pd.to_datetime(grouped_mean[\"year_month\"])\n",
    "    grouped_mean = grouped_mean[grouped_mean[\"year_month\"].dt.year != 2025]\n",
    "    grouped_mean = grouped_mean.sort_values(by='year_month')\n",
    "    grouped_mean = grouped_mean.reset_index(drop=True)\n",
    "\n",
    "    output_file = f\"../clean_data/{name}_weather_cleaned.csv\"\n",
    "    grouped_mean.to_csv(output_file, index=False)"
   ]
  }
 ],
 "metadata": {
  "kernelspec": {
   "display_name": "Python 3",
   "language": "python",
   "name": "python3"
  },
  "language_info": {
   "codemirror_mode": {
    "name": "ipython",
    "version": 3
   },
   "file_extension": ".py",
   "mimetype": "text/x-python",
   "name": "python",
   "nbconvert_exporter": "python",
   "pygments_lexer": "ipython3",
   "version": "3.12.5"
  }
 },
 "nbformat": 4,
 "nbformat_minor": 2
}
