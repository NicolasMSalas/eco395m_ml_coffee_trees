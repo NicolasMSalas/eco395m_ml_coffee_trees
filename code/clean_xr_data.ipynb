{
 "cells": [
  {
   "cell_type": "code",
   "execution_count": 5,
   "metadata": {},
   "outputs": [],
   "source": [
    "import pandas as pd\n",
    "import os"
   ]
  },
  {
   "cell_type": "code",
   "execution_count": 6,
   "metadata": {},
   "outputs": [],
   "source": [
    "base_dir = os.getcwd()\n",
    "data_folder = os.path.join(base_dir, \"..\", \"data\")\n",
    "data_folder = os.path.abspath(data_folder)\n",
    "\n",
    "excel_files = [\"brl_data_raw.xlsx\", \"vnd_data_raw.xlsx\", \"cop_data_raw.xlsx\", \"idr_data_raw.xlsx\", \"hnl_data_raw.xlsx\"]\n",
    "\n",
    "for file in excel_files:\n",
    "    file_path = os.path.join(data_folder, file)\n",
    "\n",
    "    df = pd.read_excel(file_path, sheet_name=\"Monthly\")\n",
    "\n",
    "    row_filter_dates = df.iloc[:, 4] == \"Scale\"\n",
    "\n",
    "    df_dates = df[row_filter_dates].iloc[:, 5:].reset_index(drop=True).T\n",
    "    df_dates.columns = [\"Date\"]\n",
    "\n",
    "    df = pd.read_excel(file_path, sheet_name=\"Monthly\", skiprows=5)\n",
    "\n",
    "    if file == \"hnl_data_raw.xlsx\":\n",
    "        row_filter_monthly = df.iloc[:, 1] == \"Domestic Currency per U.S. Dollar, End of Period\"\n",
    "    else:\n",
    "        row_filter_monthly = df.iloc[:, 1] == \"Domestic Currency per U.S. Dollar, Period Average\"\n",
    "\n",
    "    df_monthly = df[row_filter_monthly].iloc[:, 5:].reset_index(drop=True).T\n",
    "    df_monthly.columns = [\"Exchange Rate\"]\n",
    "\n",
    "    file_prefix = file.split('_')[0][:3]\n",
    "\n",
    "    df_monthly.columns = [f\"{file_prefix} Exchange Rate\"]\n",
    "\n",
    "    final_df = pd.concat([df_dates, df_monthly], axis=1)\n",
    "\n",
    "    final_df = final_df[final_df[\"Date\"].str.match(r\"^\\d{4}M\\d{2}$\", na=False)]\n",
    "\n",
    "    final_df[\"Date\"] = pd.to_datetime(final_df[\"Date\"].str.replace(\"M\", \"-\"), format=\"%Y-%m\").dt.strftime(\"%m/01/%Y\")\n",
    "\n",
    "    clean_file_name = file.replace(\"_raw.xlsx\", \"_clean.csv\")\n",
    "    clean_file_path = os.path.join(data_folder, clean_file_name)\n",
    "    final_df.to_csv(clean_file_path, index=False)"
   ]
  }
 ],
 "metadata": {
  "kernelspec": {
   "display_name": "Python 3",
   "language": "python",
   "name": "python3"
  },
  "language_info": {
   "codemirror_mode": {
    "name": "ipython",
    "version": 3
   },
   "file_extension": ".py",
   "mimetype": "text/x-python",
   "name": "python",
   "nbconvert_exporter": "python",
   "pygments_lexer": "ipython3",
   "version": "3.12.5"
  }
 },
 "nbformat": 4,
 "nbformat_minor": 2
}
