{
 "cells": [
  {
   "cell_type": "code",
   "execution_count": 3,
   "metadata": {},
   "outputs": [],
   "source": [
    "import pandas as pd"
   ]
  },
  {
   "cell_type": "code",
   "execution_count": null,
   "metadata": {},
   "outputs": [
    {
     "name": "stdout",
     "output_type": "stream",
     "text": [
      "                 Date Exchange Rate\n",
      "Unnamed: 5     1990.0        502.26\n",
      "Unnamed: 6     1990Q1    451.733333\n",
      "Unnamed: 7    1990M01        440.08\n",
      "Unnamed: 8    1990M02        451.72\n",
      "Unnamed: 9    1990M03         463.4\n",
      "...               ...           ...\n",
      "Unnamed: 595  2024M09       4191.86\n",
      "Unnamed: 596   2024Q4   4351.693333\n",
      "Unnamed: 597  2024M10       4257.76\n",
      "Unnamed: 598  2024M11       4411.12\n",
      "Unnamed: 599  2024M12        4386.2\n",
      "\n",
      "[595 rows x 2 columns]\n"
     ]
    }
   ],
   "source": [
    "import pandas as pd\n",
    "\n",
    "file_path = \"Exchange_Rates_incl_Effective_Ex_Ra (2).xlsx\"\n",
    "\n",
    "# Load the \"Monthly\" sheet\n",
    "df = pd.read_excel(file_path, sheet_name=\"Monthly\")\n",
    "\n",
    "# Extract the date row (column names for time periods)\n",
    "row_filter_dates = df.iloc[:, 4] == \"Scale\"\n",
    "df_dates = df[row_filter_dates].iloc[:, 5:].reset_index(drop=True).T\n",
    "df_dates.columns = [\"Date\"]  # Rename the column\n",
    "\n",
    "# Load the \"Monthly\" sheet again, skipping metadata rows\n",
    "df = pd.read_excel(file_path, sheet_name=\"Monthly\", skiprows=5)\n",
    "\n",
    "# Extract \"Domestic Currency per U.S. Dollar, Period Average\" row\n",
    "row_filter_monthly = df.iloc[:, 1] == \"Domestic Currency per U.S. Dollar, Period Average\"\n",
    "df_monthly = df[row_filter_monthly].iloc[:, 5:].reset_index(drop=True).T\n",
    "df_monthly.columns = [\"Exchange Rate\"]  # Rename the column\n",
    "\n",
    "# Combine the two columns into a single DataFrame\n",
    "final_df = pd.concat([df_dates, df_monthly], axis=1)\n",
    "\n",
    "# Display the result\n",
    "print(final_df)\n",
    "\n",
    "### REMOVE UNNAMED/ ALL YEARS QUARTERS"
   ]
  }
 ],
 "metadata": {
  "kernelspec": {
   "display_name": "Python 3",
   "language": "python",
   "name": "python3"
  },
  "language_info": {
   "codemirror_mode": {
    "name": "ipython",
    "version": 3
   },
   "file_extension": ".py",
   "mimetype": "text/x-python",
   "name": "python",
   "nbconvert_exporter": "python",
   "pygments_lexer": "ipython3",
   "version": "3.12.5"
  }
 },
 "nbformat": 4,
 "nbformat_minor": 2
}
