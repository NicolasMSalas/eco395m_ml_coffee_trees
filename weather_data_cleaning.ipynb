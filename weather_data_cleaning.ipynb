{
 "cells": [
  {
   "cell_type": "code",
   "execution_count": 60,
   "metadata": {},
   "outputs": [],
   "source": [
    "import pandas as pd\n",
    "import numpy as np"
   ]
  },
  {
   "cell_type": "code",
   "execution_count": null,
   "metadata": {},
   "outputs": [],
   "source": [
    "data_dict = {}\n",
    "\n",
    "names = [\"Brazil\", \"Colombia\", \"Indonesia\", \"Vietnam\", \"Honduras\"]\n",
    "for name in names:\n",
    "    file_path = f\"data/weather_data_{name}.csv\"\n",
    "    data_dict[f\"{name}_data\"] = pd.read_csv(file_path)\n"
   ]
  },
  {
   "cell_type": "code",
   "execution_count": 129,
   "metadata": {},
   "outputs": [],
   "source": [
    "for name in names:\n",
    "    df = data_dict[f\"{name}_data\"]\n",
    "    \n",
    "    # Convert to datetime and extract date parts\n",
    "    df[\"date\"] = pd.to_datetime(df[\"date\"]).dt.date\n",
    "    df[\"month\"] = pd.to_datetime(df[\"date\"]).dt.month\n",
    "    df[\"year\"] = pd.to_datetime(df[\"date\"]).dt.year\n",
    "    \n",
    "    # Create formatted \"year_month\" column\n",
    "    df[\"year_month\"] = df.apply(lambda row: f\"{row['month']:02d}/{row['year']:02d}\", axis=1)\n",
    "\n",
    "    numeric_cols = df.select_dtypes(include=np.number).columns\n",
    "    numeric_cols = [col for col in numeric_cols if col not in [\"month\", \"year\"]]\n",
    "    \n",
    "    grouped_mean = df.groupby(\"year_month\")[numeric_cols].mean().reset_index()\n",
    "    \n",
    "    grouped_mean[\"year_month\"] = pd.to_datetime(grouped_mean[\"year_month\"], format=\"%m/%Y\")\n",
    "    \n",
    "    # Store result\n",
    "    data_dict[f\"{name}_weather_grouped\"] = grouped_mean\n",
    "    cols = [\"daylight_duration\", \"sunshine_duration\"]\n",
    "    data_dict[f\"{name}_weather_grouped\"][cols] = data_dict[f\"{name}_weather_grouped\"][cols].apply(lambda row: row / 3600 if row.max() > 24 else row, axis=1)\n",
    "\n"
   ]
  },
  {
   "cell_type": "code",
   "execution_count": 128,
   "metadata": {},
   "outputs": [],
   "source": [
    "names = [\"Brazil\", \"Colombia\", \"Indonesia\", \"Vietnam\", \"Honduras\"]\n",
    "for name in names:\n",
    "    df = data_dict[f\"{name}_weather_grouped\"]\n",
    "    output_file = f\"data/{name}_weather_cleaned.csv\"\n",
    "    df.to_csv(output_file, index=False)\n"
   ]
  }
 ],
 "metadata": {
  "kernelspec": {
   "display_name": "Python 3",
   "language": "python",
   "name": "python3"
  },
  "language_info": {
   "codemirror_mode": {
    "name": "ipython",
    "version": 3
   },
   "file_extension": ".py",
   "mimetype": "text/x-python",
   "name": "python",
   "nbconvert_exporter": "python",
   "pygments_lexer": "ipython3",
   "version": "3.12.5"
  }
 },
 "nbformat": 4,
 "nbformat_minor": 2
}
